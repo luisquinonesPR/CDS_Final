{
 "cells": [
  {
   "cell_type": "code",
   "execution_count": null,
   "metadata": {},
   "outputs": [],
   "source": []
  }
 ],
 "metadata": {
  "kernelspec": {
   "display_name": "Python 3.9.13 ('final')",
   "language": "python",
   "name": "python3"
  },
  "language_info": {
   "name": "python",
   "version": "3.9.13"
  },
  "orig_nbformat": 4,
  "vscode": {
   "interpreter": {
    "hash": "2a17f961c752ff9462c4503bfe2f8b6a9a160c2adacb38210098a252b5893e1e"
   }
  }
 },
 "nbformat": 4,
 "nbformat_minor": 2
}
