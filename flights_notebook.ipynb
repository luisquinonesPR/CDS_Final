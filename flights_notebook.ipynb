{
 "cells": [
  {
   "cell_type": "code",
   "execution_count": 1,
   "metadata": {},
   "outputs": [],
   "source": [
    "from library.load.load import Load\n",
    "from library.features.features import Polynomial, Standardize, One_Hot_Enc\n",
    "from library.model.model import Model\n",
    "from library.preprocessor.preprocessor import PreProcessor\n",
    "from library.metrics.metrics import Metrics\n",
    "from library.split.split import Split"
   ]
  },
  {
   "cell_type": "code",
   "execution_count": 2,
   "metadata": {},
   "outputs": [],
   "source": [
    "#Loading Data\n",
    "\n",
    "df = Load('flights_data.csv')"
   ]
  },
  {
   "cell_type": "code",
   "execution_count": 42,
   "metadata": {},
   "outputs": [],
   "source": [
    "subset = ['flight', 'price']\n",
    "\n",
    "# Cleaning Data\n",
    "df = PreProcessor(df.df)\n",
    "df.clean(subset) # dropping any NAs in flight or price\n",
    "df_clean = df.clean"
   ]
  },
  {
   "cell_type": "code",
   "execution_count": 48,
   "metadata": {},
   "outputs": [],
   "source": [
    "subset_means = ['duration','days_left']\n",
    "\n",
    "means = df_clean.groupby('flight')[subset_means].mean()\n",
    "\n",
    "for col in means:\n",
    "    df_clean[col] = df_clean.apply(lambda x: means[x.flight] if pd.isnull(x[col]) else x[col], axis=1)"
   ]
  },
  {
   "cell_type": "code",
   "execution_count": 50,
   "metadata": {},
   "outputs": [],
   "source": [
    "subset_modes = ['airline','source_city', 'departure_time', 'stops', 'arrival_time', 'destination_city', 'class']\n",
    "\n",
    "modes = df_clean.groupby('flight')[subset_modes].agg(pd.Series.mode)\n",
    "\n",
    "for col in modes:\n",
    "    df_clean[col] = df_clean.apply(lambda x: modes[x.flight] if pd.isnull(x[col]) else x[col], axis=1)"
   ]
  },
  {
   "cell_type": "code",
   "execution_count": null,
   "metadata": {},
   "outputs": [],
   "source": [
    "# Creating features\n",
    "\n",
    "# We don't want to create features for 'price' so we save it before dropping it\n",
    "y = df_clean['price']\n",
    "df_feat = df_clean.drop(['Unnamed: 0', 'price'], axis = 1)\n",
    "\n",
    "# Creating polynomial features\n",
    "col_names = ['duration', 'days_left']\n",
    "poly = df_feat[col_names]\n",
    "poly = Polynomial(poly)\n",
    "poly = poly.transform(2).drop('1', axis = 1)\n",
    "col_names2 = ['duration', 'days_left', 'duration^2','duration days_left', 'days_left^2']\n",
    "df_feat[col_names2] = poly\n",
    "\n",
    "# We only want to standardize the numerical columns, excluding 'price'\n",
    "features = df_feat[col_names2]\n",
    "scaler = Standardize(features)\n",
    "features = scaler.transform()\n",
    "df_feat[col_names2] = features\n",
    "\n",
    "# One-Hot Encoding our categorical variables\n",
    "df_feat = One_Hot_Enc(df_feat).transform()"
   ]
  },
  {
   "cell_type": "code",
   "execution_count": null,
   "metadata": {},
   "outputs": [],
   "source": [
    "# Getting our target variable back to split the data\n",
    "df_feat['price'] = y\n",
    "\n",
    "# Splitting between test and train samples\n",
    "df = Split(df_feat)\n",
    "test = df.test\n",
    "train = df.train"
   ]
  },
  {
   "cell_type": "code",
   "execution_count": null,
   "metadata": {},
   "outputs": [],
   "source": [
    "# Declaring our X matrices \n",
    "X_train = train.drop('price', axis = 1)\n",
    "X_test = test.drop('price', axis = 1)\n",
    "\n",
    "# Declaring our target variable\n",
    "y_train = train['price']\n",
    "y_test = test['price']"
   ]
  },
  {
   "cell_type": "code",
   "execution_count": null,
   "metadata": {},
   "outputs": [],
   "source": [
    "# Training the model\n",
    "model = Model(X_train, y_train)\n",
    "model.train(reg = \"l2\")\n",
    "y_pred_train = model.predict(X_train)\n",
    "prediction = model.predict(X_test)\n",
    "test['predictions'] = prediction"
   ]
  },
  {
   "cell_type": "code",
   "execution_count": null,
   "metadata": {},
   "outputs": [],
   "source": [
    "# Scoring \n",
    "print('Test Score')\n",
    "score = Metrics.mse(y_test, test['predictions'])\n",
    "\n",
    "print('Test Score is:' + score)"
   ]
  }
 ],
 "metadata": {
  "kernelspec": {
   "display_name": "Python 3",
   "language": "python",
   "name": "python3"
  },
  "language_info": {
   "codemirror_mode": {
    "name": "ipython",
    "version": 3
   },
   "file_extension": ".py",
   "mimetype": "text/x-python",
   "name": "python",
   "nbconvert_exporter": "python",
   "pygments_lexer": "ipython3",
   "version": "3.7.4"
  },
  "vscode": {
   "interpreter": {
    "hash": "2a17f961c752ff9462c4503bfe2f8b6a9a160c2adacb38210098a252b5893e1e"
   }
  }
 },
 "nbformat": 4,
 "nbformat_minor": 2
}
